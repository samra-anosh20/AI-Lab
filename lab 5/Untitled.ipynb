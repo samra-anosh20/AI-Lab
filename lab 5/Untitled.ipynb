{
 "cells": [
  {
   "cell_type": "code",
   "execution_count": 4,
   "id": "8818f465",
   "metadata": {},
   "outputs": [
    {
     "name": "stdout",
     "output_type": "stream",
     "text": [
      "{'value': 0, 'children': [{'value': 1, 'children': [{'value': 3, 'children': [{'value': 7, 'children': []}, {'value': 8, 'children': []}]}, {'value': 4, 'children': [{'value': 9, 'children': []}, {'value': 10, 'children': []}]}]}, {'value': 2, 'children': [{'value': 5, 'children': [{'value': 11, 'children': []}, {'value': 12, 'children': []}]}, {'value': 6, 'children': [{'value': 13, 'children': []}, {'value': 14, 'children': []}]}]}]}\n",
      "Visiting Node 0\n",
      "Visiting Node 1\n",
      "Current maximum depth reached, returning...\n",
      "Visiting Node 2\n",
      "Current maximum depth reached, returning...\n",
      "Increasing depth to 2\n",
      "Visiting Node 0\n",
      "Visiting Node 1\n",
      "Visiting Node 3\n",
      "Current maximum depth reached, returning...\n",
      "Visiting Node 4\n",
      "Current maximum depth reached, returning...\n",
      "Visiting Node 2\n",
      "Visiting Node 5\n",
      "Current maximum depth reached, returning...\n",
      "Visiting Node 6\n",
      "Found the node we're looking for!\n",
      "6\n"
     ]
    }
   ],
   "source": [
    "def iterative_deepening_dfs(start, target):\n",
    "    \"\"\"\n",
    "    Implementation of iterative deepening DFS (depth-first search) algorithm to find the shortest path from a start to a target node..\n",
    "    Given a start node, this returns the node in the tree below the start node with the target value (or null if it doesn't exist)\n",
    "    Runs in O(n), where n is the number of nodes in the tree, or O(b^d), where b is the branching factor and d is the depth.\n",
    "    :param start:  the node to start the search from\n",
    "    :param target: the value to search for\n",
    "    :return: The node containing the target value or null if it doesn't exist.\n",
    "    \"\"\"\n",
    "    # Start by doing DFS with a depth of 1, keep doubling depth until we reach the \"bottom\" of the tree or find the node we're searching for\n",
    "    depth = 1\n",
    "    print(start)\n",
    "    bottom_reached = False  # Variable to keep track if we have reached the bottom of the tree\n",
    "    while not bottom_reached:\n",
    "        # One of the \"end nodes\" of the search with this depth has to still have children and set this to False again\n",
    "        result, bottom_reached = iterative_deepening_dfs_rec(start, target, 0, depth)\n",
    "        if result is not None:\n",
    "            # We've found the goal node while doing DFS with this max depth\n",
    "            return result\n",
    "\n",
    "        # We haven't found the goal node, but there are still deeper nodes to search through\n",
    "        depth *= 2\n",
    "        print(\"Increasing depth to \" + str(depth))\n",
    "\n",
    "    # Bottom reached is True.\n",
    "    # We haven't found the node and there were no more nodes that still have children to explore at a higher depth.\n",
    "    return None\n",
    "\n",
    "\n",
    "def iterative_deepening_dfs_rec(node, target, current_depth, max_depth):\n",
    "    print(\"Visiting Node \" + str(node[\"value\"]))\n",
    "\n",
    "    if node[\"value\"] == target:\n",
    "        # We have found the goal node we we're searching for\n",
    "        print(\"Found the node we're looking for!\")\n",
    "        return node, True\n",
    "\n",
    "    if current_depth == max_depth:\n",
    "        print(\"Current maximum depth reached, returning...\")\n",
    "        # We have reached the end for this depth...\n",
    "        if len(node[\"children\"]) > 0:\n",
    "            # ...but we have not yet reached the bottom of the tree\n",
    "            return None, False\n",
    "        else:\n",
    "            return None, True\n",
    "\n",
    "    # Recurse with all children\n",
    "    bottom_reached = True\n",
    "    for i in range(len(node[\"children\"])):\n",
    "        result, bottom_reached_rec = iterative_deepening_dfs_rec(node[\"children\"][i], target, current_depth + 1,\n",
    "                                                                 max_depth)\n",
    "        if result is not None:\n",
    "            # We've found the goal node while going down that child\n",
    "            return result, True\n",
    "        bottom_reached = bottom_reached and bottom_reached_rec\n",
    "\n",
    "    # We've gone through all children and not found the goal node\n",
    "    return None, bottom_reached\n",
    "\n",
    "start={\"value\": 0, \"children\":[\n",
    "   {\"value\": 1, \"children\":[\n",
    "     {\"value\": 3, \"children\":[ { \"value\":7,\"children\":[]}, {\"value\":8,\"children\":[]}]},\n",
    "     {\"value\": 4, \"children\":[ { \"value\":9,\"children\":[]}, {\"value\":10,\"children\":[]}]}\n",
    "     ]}, {\n",
    "         \"value\": 2, \"children\":[\n",
    "             {\"value\": 5, \"children\":[ { \"value\":11,\"children\":[]}, {\"value\":12,\"children\":[]}]},\n",
    "             {\"value\": 6, \"children\":[ { \"value\":13,\"children\":[]}, {\"value\":14,\"children\":[]}]}\n",
    "             ]\n",
    "         }\n",
    "   ]\n",
    "}\n",
    "\n",
    "\n",
    "\n",
    "print(iterative_deepening_dfs(start, 6) [\"value\"])"
   ]
  },
  {
   "cell_type": "code",
   "execution_count": 11,
   "id": "57c0f907",
   "metadata": {},
   "outputs": [
    {
     "name": "stdout",
     "output_type": "stream",
     "text": [
      "Enter 0 or 11\n",
      "hey\n",
      "Enter 0 or 11\n",
      "hey\n",
      "Enter 0 or 10\n",
      "hey\n"
     ]
    }
   ],
   "source": [
    "\n",
    "\n",
    "aqib = False \n",
    "while not aqib:\n",
    "    n=input('Enter 0 or 1')\n",
    "    if n=='0':\n",
    "        aqib=True\n",
    "    elif n=='1':\n",
    "        aqib=False\n",
    "    print('hey')"
   ]
  },
  {
   "cell_type": "code",
   "execution_count": 3,
   "id": "69ba9d7b",
   "metadata": {},
   "outputs": [
    {
     "name": "stdout",
     "output_type": "stream",
     "text": [
      "2\n"
     ]
    }
   ],
   "source": [
    "start={\"value\": 0, \"children\":[\n",
    "   {\"value\": 1, \"children\":[\n",
    "     {\"value\": 3, \"children\":[ { \"value\":7,\"children\":[]}, {\"value\":8,\"children\":[]}]},\n",
    "     {\"value\": 4, \"children\":[ { \"value\":9,\"children\":[]}, {\"value\":10,\"children\":[]}]}\n",
    "     ]}, {\n",
    "         \"value\": 2, \"children\":[\n",
    "             {\"value\": 5, \"children\":[ { \"value\":11,\"children\":[]}, {\"value\":12,\"children\":[]}]},\n",
    "             {\"value\": 6, \"children\":[ { \"value\":13,\"children\":[]}, {\"value\":14,\"children\":[]}]}\n",
    "             ]\n",
    "         }\n",
    "   ]\n",
    "}\n",
    "\n",
    "print(len(start['children']))"
   ]
  },
  {
   "cell_type": "code",
   "execution_count": 1,
   "id": "76d24245",
   "metadata": {},
   "outputs": [
    {
     "name": "stdout",
     "output_type": "stream",
     "text": [
      "False\n"
     ]
    }
   ],
   "source": [
    "bottom = False \n",
    "bottomPlus = False\n",
    "print(bottom and bootmPlus)"
   ]
  },
  {
   "cell_type": "code",
   "execution_count": null,
   "id": "7bc29fb2",
   "metadata": {},
   "outputs": [],
   "source": []
  }
 ],
 "metadata": {
  "kernelspec": {
   "display_name": "Python 3 (ipykernel)",
   "language": "python",
   "name": "python3"
  },
  "language_info": {
   "codemirror_mode": {
    "name": "ipython",
    "version": 3
   },
   "file_extension": ".py",
   "mimetype": "text/x-python",
   "name": "python",
   "nbconvert_exporter": "python",
   "pygments_lexer": "ipython3",
   "version": "3.9.12"
  }
 },
 "nbformat": 4,
 "nbformat_minor": 5
}
