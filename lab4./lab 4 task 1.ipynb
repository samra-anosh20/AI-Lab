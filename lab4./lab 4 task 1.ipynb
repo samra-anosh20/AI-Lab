{
 "cells": [
  {
   "cell_type": "code",
   "execution_count": 6,
   "id": "a111577e",
   "metadata": {},
   "outputs": [],
   "source": [
    "class Node:\n",
    "    \n",
    "    def __init__(self, state, parent, actions, totalCost):\n",
    "        self.state = state\n",
    "        self.parent = parent\n",
    "        self.actions = actions\n",
    "        self.totalCost = totalCost"
   ]
  },
  {
   "cell_type": "code",
   "execution_count": 7,
   "id": "e247534c",
   "metadata": {},
   "outputs": [],
   "source": [
    "graph = {'Oradea':         Node('Oradea',         None,['Zerind','Sibiu'], [71,151]),\n",
    "         'Zerind':         Node('Zerind',         None,['Arad'], [75]),\n",
    "         'Arad':           Node('Arad',           None,['Sibiu','Timisoara'], [140,118]),\n",
    "         'Timisoara':      Node('Timisoara',      None,['Lugoj'], [111]),\n",
    "         'Lugoj':          Node('Lugoj',          None,['Mehadia'], [70]),\n",
    "         'Mehadia':        Node('Mehadia',        None,['Drobeta'], [75]),\n",
    "         'Drobeta':        Node('Drobeta',        None,['Craviova'],[120]),\n",
    "         'Craviova':       Node('Craviova',       None,['Rimnicu Vilcea','Pitesti'],[146,138]),\n",
    "         'Rimnicu Vilcea': Node('Rimnieu Vilcea', None,['Sibiu','Pitesti'], [80,97]),\n",
    "         'Pitesti':        Node('Pitesti',        None,['Bucharest'],[101]),\n",
    "         'Bucharest':      Node('Bucharest',      None,['Giurgiu','Fagaras','Urziceni'],[90,211,85]),\n",
    "         'Fagaras':        Node('Fagaras',        None,['Sibiu'],[99]),\n",
    "         'Sibiu':          Node('Sibiu',          None,['Rimnicu Vilcea','Fagaras'], [80,99]),\n",
    "         'Urziceni':       Node('Urziceni',       None,['Hirsova','Vaslui'], [98,142]),\n",
    "         'Hirsova':        Node('Hirsova',        None,['Eforie'],[86]),\n",
    "         'Vaslui':         Node('Vaslui',         None,['Lasi'],[92]),\n",
    "         'Lasi':           Node('Lasi',           None,['Neamt'],[87])}"
   ]
  },
  {
   "cell_type": "code",
   "execution_count": 14,
   "id": "0cc587fd",
   "metadata": {},
   "outputs": [],
   "source": [
    "def DFS():\n",
    "    initialState ='Arad'\n",
    "    goalState = 'Bucharest'\n",
    "    \n",
    "    \n",
    "    graph = {'Oradea':         Node('Oradea',             None,['Zerind','Sibiu'], [71,151]),\n",
    "             'Zerind':         Node('Zerind',         None,['Arad'], [75]),\n",
    "             'Arad':           Node('Arad',           None,['Sibiu','Timisoara'], [140,118]),\n",
    "             'Timisoara':      Node('Timisoara',      None,['Lugoj'], [111]),\n",
    "             'Lugoj':          Node('Lugoj',          None,['Mehadia'], [70]),\n",
    "             'Mehadia':        Node('Mehadia',        None,['Drobeta'], [75]),\n",
    "             'Drobeta':        Node('Drobeta',        None,['Craviova'],[120]),\n",
    "             'Craviova':       Node('Craviova',       None,['Rimnicu Vilcea','Pitesti'],[146,138]),\n",
    "             'Rimnicu Vilcea': Node('Rimnieu Vilcea', None,['Sibiu','Pitesti'], [80,97]),\n",
    "             'Pitesti':        Node('Pitesti',        None,['Bucharest'],[101]),\n",
    "             'Bucharest':      Node('Bucharest',      None,['Giurgiu','Fagaras','Urziceni'],[90,211,85]),\n",
    "             'Fagaras':        Node('Fagaras',        None,['Sibiu'],[99]),\n",
    "             'Sibiu':          Node('Sibiu',          None,['Rimnicu Vilcea','Fagaras'], [80,99]),\n",
    "             'Urziceni':       Node('Urziceni',       None,['Hirsova','Vaslui'], [98,142]),\n",
    "             'Hirsova':        Node('Hirsova',        None,['Eforie'],[86]),\n",
    "             'Vaslui':         Node('Vaslui',         None,['Lasi'],[92]),\n",
    "             'Lasi':           Node('Lasi',           None,['Neamt'],[87])}\n",
    "    frontier = [initialState]\n",
    "    explored = []\n",
    "    while len(frontier)!=0:\n",
    "        currentNode=frontier.pop(len(frontier)-1)\n",
    "        print (currentNode)\n",
    "        explored.append(currentNode)\n",
    "        currentChildren=0\n",
    "        for child in graph[currentNode].actions:\n",
    "            if child not in frontier and child not in explored:\n",
    "                graph[child].parent=currentNode\n",
    "                if graph[child].state==goalState:\n",
    "                    print(explored)\n",
    "                    return actionSequence(graph, initialState, goalState)\n",
    "                currentChildren=currentChildren+1\n",
    "                frontier.append(child)\n",
    "        if currentChildren==0:\n",
    "            del explored[len(explored)-1]\n"
   ]
  },
  {
   "cell_type": "code",
   "execution_count": 15,
   "id": "b01d3588",
   "metadata": {},
   "outputs": [],
   "source": [
    "def actionSequence(graph, initialState, goalState):\n",
    "    \n",
    "        solution=[goalState]\n",
    "        currentParent=graph[goalState].parent\n",
    "        while currentParent!= None:\n",
    "            solution.append(currentParent)\n",
    "            currentParent = graph[currentParent].parent\n",
    "        solution.reverse()\n",
    "        return solution"
   ]
  },
  {
   "cell_type": "code",
   "execution_count": 16,
   "id": "cd38bbf5",
   "metadata": {},
   "outputs": [
    {
     "name": "stdout",
     "output_type": "stream",
     "text": [
      "Arad\n",
      "Timisoara\n",
      "Lugoj\n",
      "Mehadia\n",
      "Drobeta\n",
      "Craviova\n",
      "Pitesti\n",
      "['Arad', 'Timisoara', 'Lugoj', 'Mehadia', 'Drobeta', 'Craviova', 'Pitesti']\n",
      "['Arad', 'Timisoara', 'Lugoj', 'Mehadia', 'Drobeta', 'Craviova', 'Pitesti', 'Bucharest']\n"
     ]
    }
   ],
   "source": [
    "solution = DFS()\n",
    "print(solution)"
   ]
  },
  {
   "cell_type": "code",
   "execution_count": null,
   "id": "c0db3b0a",
   "metadata": {},
   "outputs": [],
   "source": []
  }
 ],
 "metadata": {
  "kernelspec": {
   "display_name": "Python 3 (ipykernel)",
   "language": "python",
   "name": "python3"
  },
  "language_info": {
   "codemirror_mode": {
    "name": "ipython",
    "version": 3
   },
   "file_extension": ".py",
   "mimetype": "text/x-python",
   "name": "python",
   "nbconvert_exporter": "python",
   "pygments_lexer": "ipython3",
   "version": "3.9.7"
  }
 },
 "nbformat": 4,
 "nbformat_minor": 5
}
