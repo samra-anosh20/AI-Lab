{
 "cells": [
  {
   "cell_type": "code",
   "execution_count": 1,
   "id": "1bf6c9e9",
   "metadata": {},
   "outputs": [],
   "source": [
    "class Node:\n",
    "  def __init__(self, state, parent, actions, totalCost):\n",
    "    self.state = state\n",
    "    self.parent = parent\n",
    "    self.actions = actions\n",
    "    self.totalCost = totalCost"
   ]
  },
  {
   "cell_type": "code",
   "execution_count": 2,
   "id": "f8eaaada",
   "metadata": {},
   "outputs": [
    {
     "data": {
      "text/plain": [
       "{'A': <__main__.Node at 0x22f3def92e0>,\n",
       " 'B': <__main__.Node at 0x22f3def9340>,\n",
       " 'C': <__main__.Node at 0x22f3def93a0>,\n",
       " 'D': <__main__.Node at 0x22f3def9400>,\n",
       " 'E': <__main__.Node at 0x22f3def9460>,\n",
       " 'F': <__main__.Node at 0x22f3def94c0>,\n",
       " 'G': <__main__.Node at 0x22f3def9520>}"
      ]
     },
     "execution_count": 2,
     "metadata": {},
     "output_type": "execute_result"
    }
   ],
   "source": [
    "graph = {'A': Node('A', None, ['B', 'C', 'E'], None),\n",
    "         'B': Node('B', None, ['A', 'D', 'E'], None),\n",
    "         'C': Node('C', None, ['A', 'F', 'G'], None),\n",
    "         'D': Node('D', None, ['B', 'E'], None),\n",
    "         'E': Node('E', None, ['A', 'B', 'D'], None),\n",
    "         'F': Node('F', None, ['C'], None),\n",
    "         'G': Node('G', None, ['C'], None)}\n",
    "\n",
    "graph"
   ]
  },
  {
   "cell_type": "code",
   "execution_count": null,
   "id": "bf0f6d94",
   "metadata": {},
   "outputs": [],
   "source": []
  }
 ],
 "metadata": {
  "kernelspec": {
   "display_name": "Python 3",
   "language": "python",
   "name": "python3"
  },
  "language_info": {
   "codemirror_mode": {
    "name": "ipython",
    "version": 3
   },
   "file_extension": ".py",
   "mimetype": "text/x-python",
   "name": "python",
   "nbconvert_exporter": "python",
   "pygments_lexer": "ipython3",
   "version": "3.8.8"
  }
 },
 "nbformat": 4,
 "nbformat_minor": 5
}
